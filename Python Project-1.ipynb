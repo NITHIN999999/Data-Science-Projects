{
 "cells": [
  {
   "cell_type": "code",
   "execution_count": 33,
   "metadata": {},
   "outputs": [
    {
     "name": "stderr",
     "output_type": "stream",
     "text": [
      "C:\\Users\\NITHIN\\anaconda3\\lib\\site-packages\\IPython\\core\\interactiveshell.py:3071: DtypeWarning: Columns (48,49) have mixed types.Specify dtype option on import or set low_memory=False.\n",
      "  has_raised = await self.run_ast_nodes(code_ast.body, cell_name,\n"
     ]
    },
    {
     "data": {
      "text/html": [
       "<div>\n",
       "<style scoped>\n",
       "    .dataframe tbody tr th:only-of-type {\n",
       "        vertical-align: middle;\n",
       "    }\n",
       "\n",
       "    .dataframe tbody tr th {\n",
       "        vertical-align: top;\n",
       "    }\n",
       "\n",
       "    .dataframe thead th {\n",
       "        text-align: right;\n",
       "    }\n",
       "</style>\n",
       "<table border=\"1\" class=\"dataframe\">\n",
       "  <thead>\n",
       "    <tr style=\"text-align: right;\">\n",
       "      <th></th>\n",
       "      <th>Unique Key</th>\n",
       "      <th>Created Date</th>\n",
       "      <th>Closed Date</th>\n",
       "      <th>Agency</th>\n",
       "      <th>Agency Name</th>\n",
       "      <th>Complaint Type</th>\n",
       "      <th>Descriptor</th>\n",
       "      <th>Location Type</th>\n",
       "      <th>Incident Zip</th>\n",
       "      <th>Incident Address</th>\n",
       "      <th>...</th>\n",
       "      <th>Bridge Highway Name</th>\n",
       "      <th>Bridge Highway Direction</th>\n",
       "      <th>Road Ramp</th>\n",
       "      <th>Bridge Highway Segment</th>\n",
       "      <th>Garage Lot Name</th>\n",
       "      <th>Ferry Direction</th>\n",
       "      <th>Ferry Terminal Name</th>\n",
       "      <th>Latitude</th>\n",
       "      <th>Longitude</th>\n",
       "      <th>Location</th>\n",
       "    </tr>\n",
       "  </thead>\n",
       "  <tbody>\n",
       "    <tr>\n",
       "      <th>0</th>\n",
       "      <td>32310363</td>\n",
       "      <td>12/31/2015 11:59:45 PM</td>\n",
       "      <td>01-01-16 0:55</td>\n",
       "      <td>NYPD</td>\n",
       "      <td>New York City Police Department</td>\n",
       "      <td>Noise - Street/Sidewalk</td>\n",
       "      <td>Loud Music/Party</td>\n",
       "      <td>Street/Sidewalk</td>\n",
       "      <td>10034.0</td>\n",
       "      <td>71 VERMILYEA AVENUE</td>\n",
       "      <td>...</td>\n",
       "      <td>NaN</td>\n",
       "      <td>NaN</td>\n",
       "      <td>NaN</td>\n",
       "      <td>NaN</td>\n",
       "      <td>NaN</td>\n",
       "      <td>NaN</td>\n",
       "      <td>NaN</td>\n",
       "      <td>40.865682</td>\n",
       "      <td>-73.923501</td>\n",
       "      <td>(40.86568153633767, -73.92350095571744)</td>\n",
       "    </tr>\n",
       "    <tr>\n",
       "      <th>1</th>\n",
       "      <td>32309934</td>\n",
       "      <td>12/31/2015 11:59:44 PM</td>\n",
       "      <td>01-01-16 1:26</td>\n",
       "      <td>NYPD</td>\n",
       "      <td>New York City Police Department</td>\n",
       "      <td>Blocked Driveway</td>\n",
       "      <td>No Access</td>\n",
       "      <td>Street/Sidewalk</td>\n",
       "      <td>11105.0</td>\n",
       "      <td>27-07 23 AVENUE</td>\n",
       "      <td>...</td>\n",
       "      <td>NaN</td>\n",
       "      <td>NaN</td>\n",
       "      <td>NaN</td>\n",
       "      <td>NaN</td>\n",
       "      <td>NaN</td>\n",
       "      <td>NaN</td>\n",
       "      <td>NaN</td>\n",
       "      <td>40.775945</td>\n",
       "      <td>-73.915094</td>\n",
       "      <td>(40.775945312321085, -73.91509393898605)</td>\n",
       "    </tr>\n",
       "    <tr>\n",
       "      <th>2</th>\n",
       "      <td>32309159</td>\n",
       "      <td>12/31/2015 11:59:29 PM</td>\n",
       "      <td>01-01-16 4:51</td>\n",
       "      <td>NYPD</td>\n",
       "      <td>New York City Police Department</td>\n",
       "      <td>Blocked Driveway</td>\n",
       "      <td>No Access</td>\n",
       "      <td>Street/Sidewalk</td>\n",
       "      <td>10458.0</td>\n",
       "      <td>2897 VALENTINE AVENUE</td>\n",
       "      <td>...</td>\n",
       "      <td>NaN</td>\n",
       "      <td>NaN</td>\n",
       "      <td>NaN</td>\n",
       "      <td>NaN</td>\n",
       "      <td>NaN</td>\n",
       "      <td>NaN</td>\n",
       "      <td>NaN</td>\n",
       "      <td>40.870325</td>\n",
       "      <td>-73.888525</td>\n",
       "      <td>(40.870324522111424, -73.88852464418646)</td>\n",
       "    </tr>\n",
       "    <tr>\n",
       "      <th>3</th>\n",
       "      <td>32305098</td>\n",
       "      <td>12/31/2015 11:57:46 PM</td>\n",
       "      <td>01-01-16 7:43</td>\n",
       "      <td>NYPD</td>\n",
       "      <td>New York City Police Department</td>\n",
       "      <td>Illegal Parking</td>\n",
       "      <td>Commercial Overnight Parking</td>\n",
       "      <td>Street/Sidewalk</td>\n",
       "      <td>10461.0</td>\n",
       "      <td>2940 BAISLEY AVENUE</td>\n",
       "      <td>...</td>\n",
       "      <td>NaN</td>\n",
       "      <td>NaN</td>\n",
       "      <td>NaN</td>\n",
       "      <td>NaN</td>\n",
       "      <td>NaN</td>\n",
       "      <td>NaN</td>\n",
       "      <td>NaN</td>\n",
       "      <td>40.835994</td>\n",
       "      <td>-73.828379</td>\n",
       "      <td>(40.83599404683083, -73.82837939584206)</td>\n",
       "    </tr>\n",
       "    <tr>\n",
       "      <th>4</th>\n",
       "      <td>32306529</td>\n",
       "      <td>12/31/2015 11:56:58 PM</td>\n",
       "      <td>01-01-16 3:24</td>\n",
       "      <td>NYPD</td>\n",
       "      <td>New York City Police Department</td>\n",
       "      <td>Illegal Parking</td>\n",
       "      <td>Blocked Sidewalk</td>\n",
       "      <td>Street/Sidewalk</td>\n",
       "      <td>11373.0</td>\n",
       "      <td>87-14 57 ROAD</td>\n",
       "      <td>...</td>\n",
       "      <td>NaN</td>\n",
       "      <td>NaN</td>\n",
       "      <td>NaN</td>\n",
       "      <td>NaN</td>\n",
       "      <td>NaN</td>\n",
       "      <td>NaN</td>\n",
       "      <td>NaN</td>\n",
       "      <td>40.733060</td>\n",
       "      <td>-73.874170</td>\n",
       "      <td>(40.733059618956815, -73.87416975810375)</td>\n",
       "    </tr>\n",
       "  </tbody>\n",
       "</table>\n",
       "<p>5 rows × 53 columns</p>\n",
       "</div>"
      ],
      "text/plain": [
       "   Unique Key            Created Date    Closed Date Agency  \\\n",
       "0    32310363  12/31/2015 11:59:45 PM  01-01-16 0:55   NYPD   \n",
       "1    32309934  12/31/2015 11:59:44 PM  01-01-16 1:26   NYPD   \n",
       "2    32309159  12/31/2015 11:59:29 PM  01-01-16 4:51   NYPD   \n",
       "3    32305098  12/31/2015 11:57:46 PM  01-01-16 7:43   NYPD   \n",
       "4    32306529  12/31/2015 11:56:58 PM  01-01-16 3:24   NYPD   \n",
       "\n",
       "                       Agency Name           Complaint Type  \\\n",
       "0  New York City Police Department  Noise - Street/Sidewalk   \n",
       "1  New York City Police Department         Blocked Driveway   \n",
       "2  New York City Police Department         Blocked Driveway   \n",
       "3  New York City Police Department          Illegal Parking   \n",
       "4  New York City Police Department          Illegal Parking   \n",
       "\n",
       "                     Descriptor    Location Type  Incident Zip  \\\n",
       "0              Loud Music/Party  Street/Sidewalk       10034.0   \n",
       "1                     No Access  Street/Sidewalk       11105.0   \n",
       "2                     No Access  Street/Sidewalk       10458.0   \n",
       "3  Commercial Overnight Parking  Street/Sidewalk       10461.0   \n",
       "4              Blocked Sidewalk  Street/Sidewalk       11373.0   \n",
       "\n",
       "        Incident Address  ... Bridge Highway Name Bridge Highway Direction  \\\n",
       "0    71 VERMILYEA AVENUE  ...                 NaN                      NaN   \n",
       "1        27-07 23 AVENUE  ...                 NaN                      NaN   \n",
       "2  2897 VALENTINE AVENUE  ...                 NaN                      NaN   \n",
       "3    2940 BAISLEY AVENUE  ...                 NaN                      NaN   \n",
       "4          87-14 57 ROAD  ...                 NaN                      NaN   \n",
       "\n",
       "  Road Ramp Bridge Highway Segment Garage Lot Name Ferry Direction  \\\n",
       "0       NaN                    NaN             NaN             NaN   \n",
       "1       NaN                    NaN             NaN             NaN   \n",
       "2       NaN                    NaN             NaN             NaN   \n",
       "3       NaN                    NaN             NaN             NaN   \n",
       "4       NaN                    NaN             NaN             NaN   \n",
       "\n",
       "  Ferry Terminal Name   Latitude  Longitude  \\\n",
       "0                 NaN  40.865682 -73.923501   \n",
       "1                 NaN  40.775945 -73.915094   \n",
       "2                 NaN  40.870325 -73.888525   \n",
       "3                 NaN  40.835994 -73.828379   \n",
       "4                 NaN  40.733060 -73.874170   \n",
       "\n",
       "                                   Location  \n",
       "0   (40.86568153633767, -73.92350095571744)  \n",
       "1  (40.775945312321085, -73.91509393898605)  \n",
       "2  (40.870324522111424, -73.88852464418646)  \n",
       "3   (40.83599404683083, -73.82837939584206)  \n",
       "4  (40.733059618956815, -73.87416975810375)  \n",
       "\n",
       "[5 rows x 53 columns]"
      ]
     },
     "execution_count": 33,
     "metadata": {},
     "output_type": "execute_result"
    }
   ],
   "source": [
    "import pandas as pd\n",
    "import numpy as np\n",
    "import datetime\n",
    "#Import required libraries\n",
    "import matplotlib.pyplot as plt\n",
    "import seaborn as sns \n",
    "%matplotlib inline\n",
    "NYC311=pd.read_csv(\"311_Service_Requests_from_2010_to_Present.csv\")\n",
    "NYC311.head() # Gives initial Five records\n",
    "\n",
    "\n"
   ]
  },
  {
   "cell_type": "code",
   "execution_count": 34,
   "metadata": {},
   "outputs": [
    {
     "data": {
      "text/plain": [
       "(300698, 53)"
      ]
     },
     "execution_count": 34,
     "metadata": {},
     "output_type": "execute_result"
    }
   ],
   "source": [
    "NYC311.shape # for identifying number of rows and columns"
   ]
  },
  {
   "cell_type": "code",
   "execution_count": 35,
   "metadata": {},
   "outputs": [
    {
     "data": {
      "text/plain": [
       "Index(['Unique Key', 'Created Date', 'Closed Date', 'Agency', 'Agency Name',\n",
       "       'Complaint Type', 'Descriptor', 'Location Type', 'Incident Zip',\n",
       "       'Incident Address', 'Street Name', 'Cross Street 1', 'Cross Street 2',\n",
       "       'Intersection Street 1', 'Intersection Street 2', 'Address Type',\n",
       "       'City', 'Landmark', 'Facility Type', 'Status', 'Due Date',\n",
       "       'Resolution Description', 'Resolution Action Updated Date',\n",
       "       'Community Board', 'Borough', 'X Coordinate (State Plane)',\n",
       "       'Y Coordinate (State Plane)', 'Park Facility Name', 'Park Borough',\n",
       "       'School Name', 'School Number', 'School Region', 'School Code',\n",
       "       'School Phone Number', 'School Address', 'School City', 'School State',\n",
       "       'School Zip', 'School Not Found', 'School or Citywide Complaint',\n",
       "       'Vehicle Type', 'Taxi Company Borough', 'Taxi Pick Up Location',\n",
       "       'Bridge Highway Name', 'Bridge Highway Direction', 'Road Ramp',\n",
       "       'Bridge Highway Segment', 'Garage Lot Name', 'Ferry Direction',\n",
       "       'Ferry Terminal Name', 'Latitude', 'Longitude', 'Location'],\n",
       "      dtype='object')"
      ]
     },
     "execution_count": 35,
     "metadata": {},
     "output_type": "execute_result"
    }
   ],
   "source": [
    "NYC311.columns# for identifying columnnames "
   ]
  },
  {
   "cell_type": "code",
   "execution_count": 36,
   "metadata": {},
   "outputs": [
    {
     "data": {
      "text/plain": [
       "array(['Noise - Street/Sidewalk', 'Blocked Driveway', 'Illegal Parking',\n",
       "       'Derelict Vehicle', 'Noise - Commercial',\n",
       "       'Noise - House of Worship', 'Posting Advertisement',\n",
       "       'Noise - Vehicle', 'Animal Abuse', 'Vending', 'Traffic',\n",
       "       'Drinking', 'Bike/Roller/Skate Chronic', 'Panhandling',\n",
       "       'Noise - Park', 'Homeless Encampment', 'Urinating in Public',\n",
       "       'Graffiti', 'Disorderly Youth', 'Illegal Fireworks',\n",
       "       'Ferry Complaint', 'Agency Issues', 'Squeegee', 'Animal in a Park'],\n",
       "      dtype=object)"
      ]
     },
     "execution_count": 36,
     "metadata": {},
     "output_type": "execute_result"
    }
   ],
   "source": [
    "NYC311['Complaint Type'].unique() # for identifying unique complaint types"
   ]
  },
  {
   "cell_type": "code",
   "execution_count": 37,
   "metadata": {},
   "outputs": [
    {
     "data": {
      "text/plain": [
       "array(['Loud Music/Party', 'No Access', 'Commercial Overnight Parking',\n",
       "       'Blocked Sidewalk', 'Posted Parking Sign Violation',\n",
       "       'Blocked Hydrant', 'With License Plate', 'Partial Access',\n",
       "       'Unauthorized Bus Layover', 'Double Parked Blocking Vehicle',\n",
       "       'Double Parked Blocking Traffic', 'Vehicle', 'Loud Talking',\n",
       "       'Banging/Pounding', 'Car/Truck Music', 'Tortured',\n",
       "       'In Prohibited Area', 'Congestion/Gridlock', 'Neglected',\n",
       "       'Car/Truck Horn', 'In Public', 'Other (complaint details)', nan,\n",
       "       'No Shelter', 'Truck Route Violation', 'Unlicensed',\n",
       "       'Overnight Commercial Storage', 'Engine Idling',\n",
       "       'After Hours - Licensed Est', 'Detached Trailer',\n",
       "       'Underage - Licensed Est', 'Chronic Stoplight Violation',\n",
       "       'Loud Television', 'Chained', 'Building', 'In Car',\n",
       "       'Police Report Requested', 'Chronic Speeding',\n",
       "       'Playing in Unsuitable Place', 'Drag Racing',\n",
       "       'Police Report Not Requested', 'Nuisance/Truant', 'Homeless Issue',\n",
       "       'Language Access Complaint', 'Disruptive Passenger',\n",
       "       'Animal Waste'], dtype=object)"
      ]
     },
     "execution_count": 37,
     "metadata": {},
     "output_type": "execute_result"
    }
   ],
   "source": [
    "NYC311['Descriptor'].unique() # for getting unique descriptors"
   ]
  },
  {
   "cell_type": "code",
   "execution_count": 38,
   "metadata": {},
   "outputs": [
    {
     "data": {
      "text/plain": [
       "Unique Key                             0\n",
       "Created Date                           0\n",
       "Closed Date                         2164\n",
       "Agency                                 0\n",
       "Agency Name                            0\n",
       "Complaint Type                         0\n",
       "Descriptor                          5914\n",
       "Location Type                        131\n",
       "Incident Zip                        2615\n",
       "Incident Address                   44410\n",
       "Street Name                        44410\n",
       "Cross Street 1                     49279\n",
       "Cross Street 2                     49779\n",
       "Intersection Street 1             256840\n",
       "Intersection Street 2             257336\n",
       "Address Type                        2815\n",
       "City                                2614\n",
       "Landmark                          300349\n",
       "Facility Type                       2171\n",
       "Status                                 0\n",
       "Due Date                               3\n",
       "Resolution Description                 0\n",
       "Resolution Action Updated Date      2187\n",
       "Community Board                        0\n",
       "Borough                                0\n",
       "X Coordinate (State Plane)          3540\n",
       "Y Coordinate (State Plane)          3540\n",
       "Park Facility Name                     0\n",
       "Park Borough                           0\n",
       "School Name                            0\n",
       "School Number                          0\n",
       "School Region                          1\n",
       "School Code                            1\n",
       "School Phone Number                    0\n",
       "School Address                         0\n",
       "School City                            0\n",
       "School State                           0\n",
       "School Zip                             1\n",
       "School Not Found                       0\n",
       "School or Citywide Complaint      300698\n",
       "Vehicle Type                      300698\n",
       "Taxi Company Borough              300698\n",
       "Taxi Pick Up Location             300698\n",
       "Bridge Highway Name               300455\n",
       "Bridge Highway Direction          300455\n",
       "Road Ramp                         300485\n",
       "Bridge Highway Segment            300485\n",
       "Garage Lot Name                   300698\n",
       "Ferry Direction                   300697\n",
       "Ferry Terminal Name               300696\n",
       "Latitude                            3540\n",
       "Longitude                           3540\n",
       "Location                            3540\n",
       "dtype: int64"
      ]
     },
     "execution_count": 38,
     "metadata": {},
     "output_type": "execute_result"
    }
   ],
   "source": [
    "NYC311.isnull().sum() # checking the number of Missing Values"
   ]
  },
  {
   "cell_type": "code",
   "execution_count": 39,
   "metadata": {},
   "outputs": [
    {
     "data": {
      "text/html": [
       "<div>\n",
       "<style scoped>\n",
       "    .dataframe tbody tr th:only-of-type {\n",
       "        vertical-align: middle;\n",
       "    }\n",
       "\n",
       "    .dataframe tbody tr th {\n",
       "        vertical-align: top;\n",
       "    }\n",
       "\n",
       "    .dataframe thead th {\n",
       "        text-align: right;\n",
       "    }\n",
       "</style>\n",
       "<table border=\"1\" class=\"dataframe\">\n",
       "  <thead>\n",
       "    <tr style=\"text-align: right;\">\n",
       "      <th></th>\n",
       "      <th>Unique Key</th>\n",
       "      <th>Created Date</th>\n",
       "      <th>Closed Date</th>\n",
       "      <th>Agency</th>\n",
       "      <th>Agency Name</th>\n",
       "      <th>Complaint Type</th>\n",
       "      <th>Descriptor</th>\n",
       "      <th>Location Type</th>\n",
       "      <th>Incident Zip</th>\n",
       "      <th>Incident Address</th>\n",
       "      <th>...</th>\n",
       "      <th>Bridge Highway Name</th>\n",
       "      <th>Bridge Highway Direction</th>\n",
       "      <th>Road Ramp</th>\n",
       "      <th>Bridge Highway Segment</th>\n",
       "      <th>Garage Lot Name</th>\n",
       "      <th>Ferry Direction</th>\n",
       "      <th>Ferry Terminal Name</th>\n",
       "      <th>Latitude</th>\n",
       "      <th>Longitude</th>\n",
       "      <th>Location</th>\n",
       "    </tr>\n",
       "  </thead>\n",
       "  <tbody>\n",
       "    <tr>\n",
       "      <th>416</th>\n",
       "      <td>32305700</td>\n",
       "      <td>12/31/2015 02:16:04 PM</td>\n",
       "      <td>NaN</td>\n",
       "      <td>NYPD</td>\n",
       "      <td>New York City Police Department</td>\n",
       "      <td>Illegal Parking</td>\n",
       "      <td>Posted Parking Sign Violation</td>\n",
       "      <td>Street/Sidewalk</td>\n",
       "      <td>NaN</td>\n",
       "      <td>5426-5526 90TH ST</td>\n",
       "      <td>...</td>\n",
       "      <td>NaN</td>\n",
       "      <td>NaN</td>\n",
       "      <td>NaN</td>\n",
       "      <td>NaN</td>\n",
       "      <td>NaN</td>\n",
       "      <td>NaN</td>\n",
       "      <td>NaN</td>\n",
       "      <td>NaN</td>\n",
       "      <td>NaN</td>\n",
       "      <td>NaN</td>\n",
       "    </tr>\n",
       "    <tr>\n",
       "      <th>611</th>\n",
       "      <td>32309308</td>\n",
       "      <td>12/31/2015 09:58:06 AM</td>\n",
       "      <td>NaN</td>\n",
       "      <td>NYPD</td>\n",
       "      <td>New York City Police Department</td>\n",
       "      <td>Noise - Street/Sidewalk</td>\n",
       "      <td>Loud Music/Party</td>\n",
       "      <td>Street/Sidewalk</td>\n",
       "      <td>NaN</td>\n",
       "      <td>30 STREET</td>\n",
       "      <td>...</td>\n",
       "      <td>NaN</td>\n",
       "      <td>NaN</td>\n",
       "      <td>NaN</td>\n",
       "      <td>NaN</td>\n",
       "      <td>NaN</td>\n",
       "      <td>NaN</td>\n",
       "      <td>NaN</td>\n",
       "      <td>NaN</td>\n",
       "      <td>NaN</td>\n",
       "      <td>NaN</td>\n",
       "    </tr>\n",
       "    <tr>\n",
       "      <th>1648</th>\n",
       "      <td>32303348</td>\n",
       "      <td>12/30/2015 05:13:42 AM</td>\n",
       "      <td>NaN</td>\n",
       "      <td>NYPD</td>\n",
       "      <td>New York City Police Department</td>\n",
       "      <td>Illegal Parking</td>\n",
       "      <td>Commercial Overnight Parking</td>\n",
       "      <td>Street/Sidewalk</td>\n",
       "      <td>NaN</td>\n",
       "      <td>21600-2169 91ST AVE</td>\n",
       "      <td>...</td>\n",
       "      <td>NaN</td>\n",
       "      <td>NaN</td>\n",
       "      <td>NaN</td>\n",
       "      <td>NaN</td>\n",
       "      <td>NaN</td>\n",
       "      <td>NaN</td>\n",
       "      <td>NaN</td>\n",
       "      <td>NaN</td>\n",
       "      <td>NaN</td>\n",
       "      <td>NaN</td>\n",
       "    </tr>\n",
       "    <tr>\n",
       "      <th>1816</th>\n",
       "      <td>32294519</td>\n",
       "      <td>12/29/2015 10:44:50 PM</td>\n",
       "      <td>NaN</td>\n",
       "      <td>NYPD</td>\n",
       "      <td>New York City Police Department</td>\n",
       "      <td>Derelict Vehicle</td>\n",
       "      <td>With License Plate</td>\n",
       "      <td>Street/Sidewalk</td>\n",
       "      <td>NaN</td>\n",
       "      <td>127 STREET</td>\n",
       "      <td>...</td>\n",
       "      <td>NaN</td>\n",
       "      <td>NaN</td>\n",
       "      <td>NaN</td>\n",
       "      <td>NaN</td>\n",
       "      <td>NaN</td>\n",
       "      <td>NaN</td>\n",
       "      <td>NaN</td>\n",
       "      <td>NaN</td>\n",
       "      <td>NaN</td>\n",
       "      <td>NaN</td>\n",
       "    </tr>\n",
       "    <tr>\n",
       "      <th>1965</th>\n",
       "      <td>32296487</td>\n",
       "      <td>12/29/2015 07:09:13 PM</td>\n",
       "      <td>NaN</td>\n",
       "      <td>NYPD</td>\n",
       "      <td>New York City Police Department</td>\n",
       "      <td>Derelict Vehicle</td>\n",
       "      <td>With License Plate</td>\n",
       "      <td>Street/Sidewalk</td>\n",
       "      <td>NaN</td>\n",
       "      <td>5201-5299 68TH ST</td>\n",
       "      <td>...</td>\n",
       "      <td>NaN</td>\n",
       "      <td>NaN</td>\n",
       "      <td>NaN</td>\n",
       "      <td>NaN</td>\n",
       "      <td>NaN</td>\n",
       "      <td>NaN</td>\n",
       "      <td>NaN</td>\n",
       "      <td>NaN</td>\n",
       "      <td>NaN</td>\n",
       "      <td>NaN</td>\n",
       "    </tr>\n",
       "    <tr>\n",
       "      <th>...</th>\n",
       "      <td>...</td>\n",
       "      <td>...</td>\n",
       "      <td>...</td>\n",
       "      <td>...</td>\n",
       "      <td>...</td>\n",
       "      <td>...</td>\n",
       "      <td>...</td>\n",
       "      <td>...</td>\n",
       "      <td>...</td>\n",
       "      <td>...</td>\n",
       "      <td>...</td>\n",
       "      <td>...</td>\n",
       "      <td>...</td>\n",
       "      <td>...</td>\n",
       "      <td>...</td>\n",
       "      <td>...</td>\n",
       "      <td>...</td>\n",
       "      <td>...</td>\n",
       "      <td>...</td>\n",
       "      <td>...</td>\n",
       "      <td>...</td>\n",
       "    </tr>\n",
       "    <tr>\n",
       "      <th>300273</th>\n",
       "      <td>30287350</td>\n",
       "      <td>03/29/2015 02:40:19 PM</td>\n",
       "      <td>NaN</td>\n",
       "      <td>NYPD</td>\n",
       "      <td>New York City Police Department</td>\n",
       "      <td>Blocked Driveway</td>\n",
       "      <td>No Access</td>\n",
       "      <td>Street/Sidewalk</td>\n",
       "      <td>NaN</td>\n",
       "      <td>3801-3999 23RD AVE</td>\n",
       "      <td>...</td>\n",
       "      <td>NaN</td>\n",
       "      <td>NaN</td>\n",
       "      <td>NaN</td>\n",
       "      <td>NaN</td>\n",
       "      <td>NaN</td>\n",
       "      <td>NaN</td>\n",
       "      <td>NaN</td>\n",
       "      <td>NaN</td>\n",
       "      <td>NaN</td>\n",
       "      <td>NaN</td>\n",
       "    </tr>\n",
       "    <tr>\n",
       "      <th>300492</th>\n",
       "      <td>30284963</td>\n",
       "      <td>03/29/2015 08:50:15 AM</td>\n",
       "      <td>NaN</td>\n",
       "      <td>NYPD</td>\n",
       "      <td>New York City Police Department</td>\n",
       "      <td>Vending</td>\n",
       "      <td>Unlicensed</td>\n",
       "      <td>Street/Sidewalk</td>\n",
       "      <td>NaN</td>\n",
       "      <td>COOPER AVE</td>\n",
       "      <td>...</td>\n",
       "      <td>NaN</td>\n",
       "      <td>NaN</td>\n",
       "      <td>NaN</td>\n",
       "      <td>NaN</td>\n",
       "      <td>NaN</td>\n",
       "      <td>NaN</td>\n",
       "      <td>NaN</td>\n",
       "      <td>NaN</td>\n",
       "      <td>NaN</td>\n",
       "      <td>NaN</td>\n",
       "    </tr>\n",
       "    <tr>\n",
       "      <th>300496</th>\n",
       "      <td>30285492</td>\n",
       "      <td>03/29/2015 08:44:13 AM</td>\n",
       "      <td>NaN</td>\n",
       "      <td>NYPD</td>\n",
       "      <td>New York City Police Department</td>\n",
       "      <td>Vending</td>\n",
       "      <td>Unlicensed</td>\n",
       "      <td>Street/Sidewalk</td>\n",
       "      <td>NaN</td>\n",
       "      <td>80 STREET</td>\n",
       "      <td>...</td>\n",
       "      <td>NaN</td>\n",
       "      <td>NaN</td>\n",
       "      <td>NaN</td>\n",
       "      <td>NaN</td>\n",
       "      <td>NaN</td>\n",
       "      <td>NaN</td>\n",
       "      <td>NaN</td>\n",
       "      <td>NaN</td>\n",
       "      <td>NaN</td>\n",
       "      <td>NaN</td>\n",
       "    </tr>\n",
       "    <tr>\n",
       "      <th>300620</th>\n",
       "      <td>30282717</td>\n",
       "      <td>03/29/2015 01:55:35 AM</td>\n",
       "      <td>NaN</td>\n",
       "      <td>NYPD</td>\n",
       "      <td>New York City Police Department</td>\n",
       "      <td>Noise - Commercial</td>\n",
       "      <td>Loud Music/Party</td>\n",
       "      <td>Club/Bar/Restaurant</td>\n",
       "      <td>NaN</td>\n",
       "      <td>CRESCENT AVENUE</td>\n",
       "      <td>...</td>\n",
       "      <td>NaN</td>\n",
       "      <td>NaN</td>\n",
       "      <td>NaN</td>\n",
       "      <td>NaN</td>\n",
       "      <td>NaN</td>\n",
       "      <td>NaN</td>\n",
       "      <td>NaN</td>\n",
       "      <td>NaN</td>\n",
       "      <td>NaN</td>\n",
       "      <td>NaN</td>\n",
       "    </tr>\n",
       "    <tr>\n",
       "      <th>300693</th>\n",
       "      <td>30281872</td>\n",
       "      <td>03/29/2015 12:33:41 AM</td>\n",
       "      <td>NaN</td>\n",
       "      <td>NYPD</td>\n",
       "      <td>New York City Police Department</td>\n",
       "      <td>Noise - Commercial</td>\n",
       "      <td>Loud Music/Party</td>\n",
       "      <td>Club/Bar/Restaurant</td>\n",
       "      <td>NaN</td>\n",
       "      <td>CRESCENT AVENUE</td>\n",
       "      <td>...</td>\n",
       "      <td>NaN</td>\n",
       "      <td>NaN</td>\n",
       "      <td>NaN</td>\n",
       "      <td>NaN</td>\n",
       "      <td>NaN</td>\n",
       "      <td>NaN</td>\n",
       "      <td>NaN</td>\n",
       "      <td>NaN</td>\n",
       "      <td>NaN</td>\n",
       "      <td>NaN</td>\n",
       "    </tr>\n",
       "  </tbody>\n",
       "</table>\n",
       "<p>2164 rows × 53 columns</p>\n",
       "</div>"
      ],
      "text/plain": [
       "        Unique Key            Created Date Closed Date Agency  \\\n",
       "416       32305700  12/31/2015 02:16:04 PM         NaN   NYPD   \n",
       "611       32309308  12/31/2015 09:58:06 AM         NaN   NYPD   \n",
       "1648      32303348  12/30/2015 05:13:42 AM         NaN   NYPD   \n",
       "1816      32294519  12/29/2015 10:44:50 PM         NaN   NYPD   \n",
       "1965      32296487  12/29/2015 07:09:13 PM         NaN   NYPD   \n",
       "...            ...                     ...         ...    ...   \n",
       "300273    30287350  03/29/2015 02:40:19 PM         NaN   NYPD   \n",
       "300492    30284963  03/29/2015 08:50:15 AM         NaN   NYPD   \n",
       "300496    30285492  03/29/2015 08:44:13 AM         NaN   NYPD   \n",
       "300620    30282717  03/29/2015 01:55:35 AM         NaN   NYPD   \n",
       "300693    30281872  03/29/2015 12:33:41 AM         NaN   NYPD   \n",
       "\n",
       "                            Agency Name           Complaint Type  \\\n",
       "416     New York City Police Department          Illegal Parking   \n",
       "611     New York City Police Department  Noise - Street/Sidewalk   \n",
       "1648    New York City Police Department          Illegal Parking   \n",
       "1816    New York City Police Department         Derelict Vehicle   \n",
       "1965    New York City Police Department         Derelict Vehicle   \n",
       "...                                 ...                      ...   \n",
       "300273  New York City Police Department         Blocked Driveway   \n",
       "300492  New York City Police Department                  Vending   \n",
       "300496  New York City Police Department                  Vending   \n",
       "300620  New York City Police Department       Noise - Commercial   \n",
       "300693  New York City Police Department       Noise - Commercial   \n",
       "\n",
       "                           Descriptor        Location Type  Incident Zip  \\\n",
       "416     Posted Parking Sign Violation      Street/Sidewalk           NaN   \n",
       "611                  Loud Music/Party      Street/Sidewalk           NaN   \n",
       "1648     Commercial Overnight Parking      Street/Sidewalk           NaN   \n",
       "1816               With License Plate      Street/Sidewalk           NaN   \n",
       "1965               With License Plate      Street/Sidewalk           NaN   \n",
       "...                               ...                  ...           ...   \n",
       "300273                      No Access      Street/Sidewalk           NaN   \n",
       "300492                     Unlicensed      Street/Sidewalk           NaN   \n",
       "300496                     Unlicensed      Street/Sidewalk           NaN   \n",
       "300620               Loud Music/Party  Club/Bar/Restaurant           NaN   \n",
       "300693               Loud Music/Party  Club/Bar/Restaurant           NaN   \n",
       "\n",
       "           Incident Address  ... Bridge Highway Name Bridge Highway Direction  \\\n",
       "416       5426-5526 90TH ST  ...                 NaN                      NaN   \n",
       "611               30 STREET  ...                 NaN                      NaN   \n",
       "1648    21600-2169 91ST AVE  ...                 NaN                      NaN   \n",
       "1816             127 STREET  ...                 NaN                      NaN   \n",
       "1965      5201-5299 68TH ST  ...                 NaN                      NaN   \n",
       "...                     ...  ...                 ...                      ...   \n",
       "300273   3801-3999 23RD AVE  ...                 NaN                      NaN   \n",
       "300492           COOPER AVE  ...                 NaN                      NaN   \n",
       "300496            80 STREET  ...                 NaN                      NaN   \n",
       "300620      CRESCENT AVENUE  ...                 NaN                      NaN   \n",
       "300693      CRESCENT AVENUE  ...                 NaN                      NaN   \n",
       "\n",
       "       Road Ramp Bridge Highway Segment Garage Lot Name Ferry Direction  \\\n",
       "416          NaN                    NaN             NaN             NaN   \n",
       "611          NaN                    NaN             NaN             NaN   \n",
       "1648         NaN                    NaN             NaN             NaN   \n",
       "1816         NaN                    NaN             NaN             NaN   \n",
       "1965         NaN                    NaN             NaN             NaN   \n",
       "...          ...                    ...             ...             ...   \n",
       "300273       NaN                    NaN             NaN             NaN   \n",
       "300492       NaN                    NaN             NaN             NaN   \n",
       "300496       NaN                    NaN             NaN             NaN   \n",
       "300620       NaN                    NaN             NaN             NaN   \n",
       "300693       NaN                    NaN             NaN             NaN   \n",
       "\n",
       "       Ferry Terminal Name Latitude Longitude Location  \n",
       "416                    NaN      NaN       NaN      NaN  \n",
       "611                    NaN      NaN       NaN      NaN  \n",
       "1648                   NaN      NaN       NaN      NaN  \n",
       "1816                   NaN      NaN       NaN      NaN  \n",
       "1965                   NaN      NaN       NaN      NaN  \n",
       "...                    ...      ...       ...      ...  \n",
       "300273                 NaN      NaN       NaN      NaN  \n",
       "300492                 NaN      NaN       NaN      NaN  \n",
       "300496                 NaN      NaN       NaN      NaN  \n",
       "300620                 NaN      NaN       NaN      NaN  \n",
       "300693                 NaN      NaN       NaN      NaN  \n",
       "\n",
       "[2164 rows x 53 columns]"
      ]
     },
     "execution_count": 39,
     "metadata": {},
     "output_type": "execute_result"
    }
   ],
   "source": [
    "# Closed Date is an important column and have many missing values\n",
    "NYC311[NYC311['Closed Date'].isnull()]"
   ]
  },
  {
   "cell_type": "code",
   "execution_count": 40,
   "metadata": {},
   "outputs": [
    {
     "data": {
      "text/html": [
       "<div>\n",
       "<style scoped>\n",
       "    .dataframe tbody tr th:only-of-type {\n",
       "        vertical-align: middle;\n",
       "    }\n",
       "\n",
       "    .dataframe tbody tr th {\n",
       "        vertical-align: top;\n",
       "    }\n",
       "\n",
       "    .dataframe thead th {\n",
       "        text-align: right;\n",
       "    }\n",
       "</style>\n",
       "<table border=\"1\" class=\"dataframe\">\n",
       "  <thead>\n",
       "    <tr style=\"text-align: right;\">\n",
       "      <th></th>\n",
       "      <th>Unique Key</th>\n",
       "      <th>Created Date</th>\n",
       "      <th>Closed Date</th>\n",
       "      <th>Agency</th>\n",
       "      <th>Agency Name</th>\n",
       "      <th>Complaint Type</th>\n",
       "      <th>Descriptor</th>\n",
       "      <th>Location Type</th>\n",
       "      <th>Incident Zip</th>\n",
       "      <th>Incident Address</th>\n",
       "      <th>...</th>\n",
       "      <th>Bridge Highway Name</th>\n",
       "      <th>Bridge Highway Direction</th>\n",
       "      <th>Road Ramp</th>\n",
       "      <th>Bridge Highway Segment</th>\n",
       "      <th>Garage Lot Name</th>\n",
       "      <th>Ferry Direction</th>\n",
       "      <th>Ferry Terminal Name</th>\n",
       "      <th>Latitude</th>\n",
       "      <th>Longitude</th>\n",
       "      <th>Location</th>\n",
       "    </tr>\n",
       "  </thead>\n",
       "  <tbody>\n",
       "    <tr>\n",
       "      <th>416</th>\n",
       "      <td>32305700</td>\n",
       "      <td>12/31/2015 02:16:04 PM</td>\n",
       "      <td>NaN</td>\n",
       "      <td>NYPD</td>\n",
       "      <td>New York City Police Department</td>\n",
       "      <td>Illegal Parking</td>\n",
       "      <td>Posted Parking Sign Violation</td>\n",
       "      <td>Street/Sidewalk</td>\n",
       "      <td>NaN</td>\n",
       "      <td>5426-5526 90TH ST</td>\n",
       "      <td>...</td>\n",
       "      <td>NaN</td>\n",
       "      <td>NaN</td>\n",
       "      <td>NaN</td>\n",
       "      <td>NaN</td>\n",
       "      <td>NaN</td>\n",
       "      <td>NaN</td>\n",
       "      <td>NaN</td>\n",
       "      <td>NaN</td>\n",
       "      <td>NaN</td>\n",
       "      <td>NaN</td>\n",
       "    </tr>\n",
       "  </tbody>\n",
       "</table>\n",
       "<p>1 rows × 53 columns</p>\n",
       "</div>"
      ],
      "text/plain": [
       "     Unique Key            Created Date Closed Date Agency  \\\n",
       "416    32305700  12/31/2015 02:16:04 PM         NaN   NYPD   \n",
       "\n",
       "                         Agency Name   Complaint Type  \\\n",
       "416  New York City Police Department  Illegal Parking   \n",
       "\n",
       "                        Descriptor    Location Type  Incident Zip  \\\n",
       "416  Posted Parking Sign Violation  Street/Sidewalk           NaN   \n",
       "\n",
       "      Incident Address  ... Bridge Highway Name Bridge Highway Direction  \\\n",
       "416  5426-5526 90TH ST  ...                 NaN                      NaN   \n",
       "\n",
       "    Road Ramp Bridge Highway Segment Garage Lot Name Ferry Direction  \\\n",
       "416       NaN                    NaN             NaN             NaN   \n",
       "\n",
       "    Ferry Terminal Name Latitude Longitude Location  \n",
       "416                 NaN      NaN       NaN      NaN  \n",
       "\n",
       "[1 rows x 53 columns]"
      ]
     },
     "execution_count": 40,
     "metadata": {},
     "output_type": "execute_result"
    }
   ],
   "source": [
    "# For our future exploration on \"Closed Date column\" noted down 1 row by its \"unique key \"column to cross-check changes everytime we do something for \"Closed Date \"or related column\n",
    "NYC311[NYC311['Unique Key'] == 32305700]"
   ]
  },
  {
   "cell_type": "code",
   "execution_count": 16,
   "metadata": {},
   "outputs": [
    {
     "data": {
      "text/plain": [
       "Unique Key                          int64\n",
       "Created Date                       object\n",
       "Closed Date                        object\n",
       "Agency                             object\n",
       "Agency Name                        object\n",
       "Complaint Type                     object\n",
       "Descriptor                         object\n",
       "Location Type                      object\n",
       "Incident Zip                      float64\n",
       "Incident Address                   object\n",
       "Street Name                        object\n",
       "Cross Street 1                     object\n",
       "Cross Street 2                     object\n",
       "Intersection Street 1              object\n",
       "Intersection Street 2              object\n",
       "Address Type                       object\n",
       "City                               object\n",
       "Landmark                           object\n",
       "Facility Type                      object\n",
       "Status                             object\n",
       "Due Date                           object\n",
       "Resolution Description             object\n",
       "Resolution Action Updated Date     object\n",
       "Community Board                    object\n",
       "Borough                            object\n",
       "X Coordinate (State Plane)        float64\n",
       "Y Coordinate (State Plane)        float64\n",
       "Park Facility Name                 object\n",
       "Park Borough                       object\n",
       "School Name                        object\n",
       "School Number                      object\n",
       "School Region                      object\n",
       "School Code                        object\n",
       "School Phone Number                object\n",
       "School Address                     object\n",
       "School City                        object\n",
       "School State                       object\n",
       "School Zip                         object\n",
       "School Not Found                   object\n",
       "School or Citywide Complaint      float64\n",
       "Vehicle Type                      float64\n",
       "Taxi Company Borough              float64\n",
       "Taxi Pick Up Location             float64\n",
       "Bridge Highway Name                object\n",
       "Bridge Highway Direction           object\n",
       "Road Ramp                          object\n",
       "Bridge Highway Segment             object\n",
       "Garage Lot Name                   float64\n",
       "Ferry Direction                    object\n",
       "Ferry Terminal Name                object\n",
       "Latitude                          float64\n",
       "Longitude                         float64\n",
       "Location                           object\n",
       "dtype: object"
      ]
     },
     "execution_count": 16,
     "metadata": {},
     "output_type": "execute_result"
    }
   ],
   "source": [
    "# We check data type of each column\n",
    "NYC311.dtypes"
   ]
  },
  {
   "cell_type": "markdown",
   "metadata": {},
   "source": [
    "# Question 2.) Read or convert the columns ‘Created Date’ and Closed Date’ to datetime datatype and create a new column ‘Request_Closing_Time’ as the time elapsed between request creation and request closing. (Hint: Explore the package/module datetime)\n",
    "\n",
    "# Solution 2"
   ]
  },
  {
   "cell_type": "code",
   "execution_count": 41,
   "metadata": {},
   "outputs": [],
   "source": [
    "import datetime as dt\n",
    "import time, datetime"
   ]
  },
  {
   "cell_type": "code",
   "execution_count": 43,
   "metadata": {},
   "outputs": [
    {
     "data": {
      "text/plain": [
       "dtype('<M8[ns]')"
      ]
     },
     "execution_count": 43,
     "metadata": {},
     "output_type": "execute_result"
    }
   ],
   "source": [
    "# Convert \"Closed Date\" to datetime dtype\n",
    "NYC311['Closed Date'] = pd.to_datetime(NYC311['Closed Date'])\n",
    "NYC311['Closed Date'].dtype"
   ]
  },
  {
   "cell_type": "code",
   "execution_count": 44,
   "metadata": {},
   "outputs": [
    {
     "data": {
      "text/plain": [
       "dtype('<M8[ns]')"
      ]
     },
     "execution_count": 44,
     "metadata": {},
     "output_type": "execute_result"
    }
   ],
   "source": [
    "# Convert \"Created Date\" to datetime dtype\n",
    "NYC311['Created Date'] = pd.to_datetime(NYC311['Created Date'])\n",
    "NYC311['Created Date'].dtype"
   ]
  },
  {
   "cell_type": "code",
   "execution_count": 45,
   "metadata": {
    "scrolled": false
   },
   "outputs": [
    {
     "data": {
      "text/plain": [
       "pandas.core.frame.DataFrame"
      ]
     },
     "execution_count": 45,
     "metadata": {},
     "output_type": "execute_result"
    }
   ],
   "source": [
    "type(NYC311)"
   ]
  },
  {
   "cell_type": "code",
   "execution_count": 46,
   "metadata": {},
   "outputs": [
    {
     "data": {
      "text/plain": [
       "0   00:55:15\n",
       "1   01:26:16\n",
       "2   04:51:31\n",
       "3   07:45:14\n",
       "4   03:27:02\n",
       "Name: Request_Closing_Time, dtype: timedelta64[ns]"
      ]
     },
     "execution_count": 46,
     "metadata": {},
     "output_type": "execute_result"
    }
   ],
   "source": [
    "# Creating a new column named Request_Closing_Time with time taken to close complain\n",
    "NYC311['Request_Closing_Time'] = NYC311['Closed Date'] - NYC311['Created Date']\n",
    "\n",
    "NYC311['Request_Closing_Time'].head()"
   ]
  },
  {
   "cell_type": "markdown",
   "metadata": {},
   "source": [
    "# Question 3:- Provide major insights/patterns that you can offer in a visual format (graphs or tables); at least 4 major conclusions that you can come up with after generic data mining.\n",
    "\n",
    "# Solution 3\n",
    "\n",
    "# From here starting Insight\n",
    "\n",
    "# Insight - 1 - Categorize Request_Closing_Time as follows -\n",
    "\n",
    "# Below 2 hours - Fast\n",
    "\n",
    "# Between 2 to 4 hours - Acceptable\n",
    "\n",
    "# Between 4 to 6 - Slow, More than 6 hours - Very Slow\n",
    "\n",
    "# For this, first will create new column \"Request_Closing_In_Hr\" and then create new column - \"Request_Closing_Time_Category\"\n",
    "\n",
    "# Function to convert Time-Delays in Hour"
   ]
  },
  {
   "cell_type": "code",
   "execution_count": 47,
   "metadata": {},
   "outputs": [],
   "source": [
    "\n",
    "# Function to convert Time Delays in Hour\n",
    "def toHr(timeDel):\n",
    "    days = timeDel.days\n",
    "    hours = round(timeDel.seconds/3600, 2)\n",
    "    result = (days * 24) + hours\n",
    "    #print(days)\n",
    "    #print(hours)\n",
    "    return result\n",
    "    #return round(pd.Time-delays(timeDel).seconds / 3600, 2)"
   ]
  },
  {
   "cell_type": "code",
   "execution_count": 48,
   "metadata": {},
   "outputs": [
    {
     "name": "stdout",
     "output_type": "stream",
     "text": [
      "145.08\n",
      "6 days 01:05:00\n",
      "timedelta64[ns]\n"
     ]
    }
   ],
   "source": [
    "#Testing of function with days\n",
    "test_days = NYC311[NYC311['Unique Key'] == 32122264]['Request_Closing_Time']\n",
    "print(toHr(test_days[27704]))\n",
    "print(test_days[27704])\n",
    "print(test_days.dtype)"
   ]
  },
  {
   "cell_type": "code",
   "execution_count": 49,
   "metadata": {},
   "outputs": [
    {
     "data": {
      "text/plain": [
       "0    0.92\n",
       "1    1.44\n",
       "2    4.86\n",
       "3    7.75\n",
       "4    3.45\n",
       "Name: Request_Closing_In_Hr, dtype: float64"
      ]
     },
     "execution_count": 49,
     "metadata": {},
     "output_type": "execute_result"
    }
   ],
   "source": [
    "# Apply this function to every row of column Request_Closing_Time\n",
    "NYC311['Request_Closing_In_Hr'] = NYC311['Request_Closing_Time'].apply(toHr)\n",
    "\n",
    "NYC311['Request_Closing_In_Hr'].head()"
   ]
  },
  {
   "cell_type": "code",
   "execution_count": 50,
   "metadata": {},
   "outputs": [],
   "source": [
    "import math"
   ]
  },
  {
   "cell_type": "code",
   "execution_count": 51,
   "metadata": {},
   "outputs": [],
   "source": [
    "# Function to categorize hours - Less than 2 hours - Fast, Between 2 to 4 hours - Acceptable, Between 4 to 6 - Slow, More than 6 hours - Very Slow\n",
    "def hr_To_Category(hr):\n",
    "    if (math.isnan(hr)):\n",
    "        return 'Unspecified'\n",
    "    elif (hr < 2.0):\n",
    "        return 'Fast'\n",
    "    elif (4.0 > hr >= 2.0):\n",
    "        return 'Acceptable'\n",
    "    elif (6.0 > hr >= 4.0):\n",
    "        return 'Slow'\n",
    "    else:\n",
    "        return 'Very Slow'"
   ]
  },
  {
   "cell_type": "code",
   "execution_count": 52,
   "metadata": {},
   "outputs": [
    {
     "name": "stdout",
     "output_type": "stream",
     "text": [
      "Fast\n"
     ]
    },
    {
     "data": {
      "text/plain": [
       "0          Fast\n",
       "1          Fast\n",
       "2          Slow\n",
       "3     Very Slow\n",
       "4    Acceptable\n",
       "Name: Request_Closing_Time_Category, dtype: object"
      ]
     },
     "execution_count": 52,
     "metadata": {},
     "output_type": "execute_result"
    }
   ],
   "source": [
    "# Testing function\n",
    "print(hr_To_Category(1.99))\n",
    "\n",
    "# Create new column \"Request_Closing_Time_Category\" and apply function on \"column Request_Closing_In_Hr\"\n",
    "\n",
    "NYC311['Request_Closing_Time_Category'] = NYC311['Request_Closing_In_Hr'].apply(hrToCategory)\n",
    "\n",
    "NYC311['Request_Closing_Time_Category'].head()"
   ]
  },
  {
   "cell_type": "code",
   "execution_count": 53,
   "metadata": {},
   "outputs": [
    {
     "data": {
      "image/png": "[encoded data removed]",
      "text/plain": [
       "<Figure size 1080x216 with 1 Axes>"
      ]
     },
     "metadata": {
      "needs_background": "light"
     },
     "output_type": "display_data"
    }
   ],
   "source": [
    "NYC311['Request_Closing_Time_Category'].value_counts()\n",
    "\n",
    "# Create Bar plot for Request_Closing_Time_Category to check frequency in Request_Closing_Time_Category and it prove Most count is in Fast category means closed less than 2 hours\n",
    "\n",
    "NYC311['Request_Closing_Time_Category'].value_counts().plot(kind=\"barh\", color=list('kymcrgb'), alpha=0.7, figsize=(15,3))\n",
    "plt.show()"
   ]
  },
  {
   "cell_type": "code",
   "execution_count": 54,
   "metadata": {},
   "outputs": [
    {
     "data": {
      "text/plain": [
       "Closed      298471\n",
       "Open          1439\n",
       "Assigned       786\n",
       "Draft            2\n",
       "Name: Status, dtype: int64"
      ]
     },
     "execution_count": 54,
     "metadata": {},
     "output_type": "execute_result"
    }
   ],
   "source": [
    "# Insight 4\n",
    "# Let's check count for status type\n",
    "NYC311['Status'].value_counts()"
   ]
  },
  {
   "cell_type": "code",
   "execution_count": 55,
   "metadata": {},
   "outputs": [
    {
     "data": {
      "image/png": "[encoded data removed]",
      "text/plain": [
       "<Figure size 432x288 with 1 Axes>"
      ]
     },
     "metadata": {},
     "output_type": "display_data"
    }
   ],
   "source": [
    "# Draw Bar lot for Status\n",
    "from matplotlib import style\n",
    "style.use('ggplot')\n",
    "NYC311['Status'].value_counts().plot(kind='bar', color=list('kymcrgb'))\n",
    "plt.show()"
   ]
  },
  {
   "cell_type": "markdown",
   "metadata": {},
   "source": [
    "# Question 4.: Order the complaint types based on the average ‘Request_Closing_Time’, grouping them for different locations.\n",
    "\n",
    "# Solution 4:\n",
    "\n"
   ]
  },
  {
   "cell_type": "code",
   "execution_count": 57,
   "metadata": {},
   "outputs": [
    {
     "data": {
      "text/plain": [
       "2614"
      ]
     },
     "execution_count": 57,
     "metadata": {},
     "output_type": "execute_result"
    }
   ],
   "source": [
    "# For location we can choose here City, so first check if there is missing values there\n",
    "NYC311['City'].isnull().sum()"
   ]
  },
  {
   "cell_type": "code",
   "execution_count": 58,
   "metadata": {},
   "outputs": [],
   "source": [
    "# Fill all missing value with some default value here i used - Not Available\n",
    "NYC311['City'].fillna('Not Available', inplace=True)"
   ]
  },
  {
   "cell_type": "code",
   "execution_count": 59,
   "metadata": {},
   "outputs": [
    {
     "data": {
      "text/plain": [
       "0    NEW YORK\n",
       "1     ASTORIA\n",
       "2       BRONX\n",
       "3       BRONX\n",
       "4    ELMHURST\n",
       "Name: City, dtype: object"
      ]
     },
     "execution_count": 59,
     "metadata": {},
     "output_type": "execute_result"
    }
   ],
   "source": [
    "NYC311['City'].head()"
   ]
  },
  {
   "cell_type": "code",
   "execution_count": 60,
   "metadata": {},
   "outputs": [
    {
     "data": {
      "text/plain": [
       "0              NEW YORK\n",
       "1               ASTORIA\n",
       "2                 BRONX\n",
       "3                 BRONX\n",
       "4              ELMHURST\n",
       "              ...      \n",
       "300693    Not Available\n",
       "300694    RICHMOND HILL\n",
       "300695         BROOKLYN\n",
       "300696            BRONX\n",
       "300697         NEW YORK\n",
       "Name: City, Length: 300698, dtype: object"
      ]
     },
     "execution_count": 60,
     "metadata": {},
     "output_type": "execute_result"
    }
   ],
   "source": [
    "NYC311['City']"
   ]
  },
  {
   "cell_type": "code",
   "execution_count": 61,
   "metadata": {},
   "outputs": [],
   "source": [
    "# Group them for City (location) first and Complain Type in that\n",
    "NYC311_grouped = NYC311.groupby(['City', 'Complaint Type'])"
   ]
  },
  {
   "cell_type": "code",
   "execution_count": 62,
   "metadata": {},
   "outputs": [
    {
     "data": {
      "text/plain": [
       "4"
      ]
     },
     "execution_count": 62,
     "metadata": {},
     "output_type": "execute_result"
    }
   ],
   "source": [
    "# get average of this grouped dataframe, and get Request_Closing_Time column from there\n",
    "NYC311_mean = NYC311_grouped.mean()['Request_Closing_In_Hr']\n",
    "NYC311_mean.isnull().sum()"
   ]
  },
  {
   "cell_type": "code",
   "execution_count": 65,
   "metadata": {},
   "outputs": [
    {
     "data": {
      "text/html": [
       "<div>\n",
       "<style scoped>\n",
       "    .dataframe tbody tr th:only-of-type {\n",
       "        vertical-align: middle;\n",
       "    }\n",
       "\n",
       "    .dataframe tbody tr th {\n",
       "        vertical-align: top;\n",
       "    }\n",
       "\n",
       "    .dataframe thead th {\n",
       "        text-align: right;\n",
       "    }\n",
       "</style>\n",
       "<table border=\"1\" class=\"dataframe\">\n",
       "  <thead>\n",
       "    <tr style=\"text-align: right;\">\n",
       "      <th></th>\n",
       "      <th></th>\n",
       "      <th>Request_Closing_In_Hr</th>\n",
       "    </tr>\n",
       "    <tr>\n",
       "      <th>City</th>\n",
       "      <th>Complaint Type</th>\n",
       "      <th></th>\n",
       "    </tr>\n",
       "  </thead>\n",
       "  <tbody>\n",
       "    <tr>\n",
       "      <th rowspan=\"5\" valign=\"top\">ARVERNE</th>\n",
       "      <th>Animal Abuse</th>\n",
       "      <td>2.153158</td>\n",
       "    </tr>\n",
       "    <tr>\n",
       "      <th>Blocked Driveway</th>\n",
       "      <td>2.526000</td>\n",
       "    </tr>\n",
       "    <tr>\n",
       "      <th>Derelict Vehicle</th>\n",
       "      <td>2.968889</td>\n",
       "    </tr>\n",
       "    <tr>\n",
       "      <th>Disorderly Youth</th>\n",
       "      <td>3.595000</td>\n",
       "    </tr>\n",
       "    <tr>\n",
       "      <th>Drinking</th>\n",
       "      <td>0.240000</td>\n",
       "    </tr>\n",
       "    <tr>\n",
       "      <th>...</th>\n",
       "      <th>...</th>\n",
       "      <td>...</td>\n",
       "    </tr>\n",
       "    <tr>\n",
       "      <th rowspan=\"5\" valign=\"top\">Woodside</th>\n",
       "      <th>Blocked Driveway</th>\n",
       "      <td>6.405455</td>\n",
       "    </tr>\n",
       "    <tr>\n",
       "      <th>Derelict Vehicle</th>\n",
       "      <td>4.965000</td>\n",
       "    </tr>\n",
       "    <tr>\n",
       "      <th>Illegal Parking</th>\n",
       "      <td>5.219500</td>\n",
       "    </tr>\n",
       "    <tr>\n",
       "      <th>Noise - Commercial</th>\n",
       "      <td>2.390000</td>\n",
       "    </tr>\n",
       "    <tr>\n",
       "      <th>Noise - Street/Sidewalk</th>\n",
       "      <td>3.410000</td>\n",
       "    </tr>\n",
       "  </tbody>\n",
       "</table>\n",
       "<p>782 rows × 1 columns</p>\n",
       "</div>"
      ],
      "text/plain": [
       "                                  Request_Closing_In_Hr\n",
       "City     Complaint Type                                \n",
       "ARVERNE  Animal Abuse                          2.153158\n",
       "         Blocked Driveway                      2.526000\n",
       "         Derelict Vehicle                      2.968889\n",
       "         Disorderly Youth                      3.595000\n",
       "         Drinking                              0.240000\n",
       "...                                                 ...\n",
       "Woodside Blocked Driveway                      6.405455\n",
       "         Derelict Vehicle                      4.965000\n",
       "         Illegal Parking                       5.219500\n",
       "         Noise - Commercial                    2.390000\n",
       "         Noise - Street/Sidewalk               3.410000\n",
       "\n",
       "[782 rows x 1 columns]"
      ]
     },
     "execution_count": 65,
     "metadata": {},
     "output_type": "execute_result"
    }
   ],
   "source": [
    "# Group by City(location) first and then Complain Type and showing average of Request Closing in Hour\n",
    "NYC311_grouped  = NYC311.groupby(['City','Complaint Type']).agg({'Request_Closing_In_Hr': 'mean'})\n",
    "NYC311_grouped "
   ]
  },
  {
   "cell_type": "code",
   "execution_count": 66,
   "metadata": {},
   "outputs": [
    {
     "data": {
      "text/html": [
       "<div>\n",
       "<style scoped>\n",
       "    .dataframe tbody tr th:only-of-type {\n",
       "        vertical-align: middle;\n",
       "    }\n",
       "\n",
       "    .dataframe tbody tr th {\n",
       "        vertical-align: top;\n",
       "    }\n",
       "\n",
       "    .dataframe thead th {\n",
       "        text-align: right;\n",
       "    }\n",
       "</style>\n",
       "<table border=\"1\" class=\"dataframe\">\n",
       "  <thead>\n",
       "    <tr style=\"text-align: right;\">\n",
       "      <th></th>\n",
       "      <th></th>\n",
       "      <th>Request_Closing_In_Hr</th>\n",
       "    </tr>\n",
       "    <tr>\n",
       "      <th>City</th>\n",
       "      <th>Complaint Type</th>\n",
       "      <th></th>\n",
       "    </tr>\n",
       "  </thead>\n",
       "  <tbody>\n",
       "    <tr>\n",
       "      <th rowspan=\"4\" valign=\"top\">Not Available</th>\n",
       "      <th>Ferry Complaint</th>\n",
       "      <td>NaN</td>\n",
       "    </tr>\n",
       "    <tr>\n",
       "      <th>Noise - House of Worship</th>\n",
       "      <td>NaN</td>\n",
       "    </tr>\n",
       "    <tr>\n",
       "      <th>Panhandling</th>\n",
       "      <td>NaN</td>\n",
       "    </tr>\n",
       "    <tr>\n",
       "      <th>Posting Advertisement</th>\n",
       "      <td>NaN</td>\n",
       "    </tr>\n",
       "  </tbody>\n",
       "</table>\n",
       "</div>"
      ],
      "text/plain": [
       "                                        Request_Closing_In_Hr\n",
       "City          Complaint Type                                 \n",
       "Not Available Ferry Complaint                             NaN\n",
       "              Noise - House of Worship                    NaN\n",
       "              Panhandling                                 NaN\n",
       "              Posting Advertisement                       NaN"
      ]
     },
     "execution_count": 66,
     "metadata": {},
     "output_type": "execute_result"
    }
   ],
   "source": [
    "# Check if any value is NaN\n",
    "NYC311_grouped[NYC311_grouped['Request_Closing_In_Hr'].isnull()]"
   ]
  },
  {
   "cell_type": "code",
   "execution_count": 67,
   "metadata": {},
   "outputs": [
    {
     "name": "stdout",
     "output_type": "stream",
     "text": [
      "                                  Request_Closing_In_Hr\n",
      "City     Complaint Type                                \n",
      "ARVERNE  Animal Abuse                          2.153158\n",
      "         Blocked Driveway                      2.526000\n",
      "         Derelict Vehicle                      2.968889\n",
      "         Disorderly Youth                      3.595000\n",
      "         Drinking                              0.240000\n",
      "...                                                 ...\n",
      "Woodside Blocked Driveway                      6.405455\n",
      "         Derelict Vehicle                      4.965000\n",
      "         Illegal Parking                       5.219500\n",
      "         Noise - Commercial                    2.390000\n",
      "         Noise - Street/Sidewalk               3.410000\n",
      "\n",
      "[782 rows x 1 columns]\n"
     ]
    }
   ],
   "source": [
    "# Check total rows\n",
    "print(NYC311_grouped)"
   ]
  },
  {
   "cell_type": "code",
   "execution_count": 68,
   "metadata": {},
   "outputs": [],
   "source": [
    "# drop null values from this group\n",
    "NYC311_grouped_withoutna = NYC311_grouped.dropna()"
   ]
  },
  {
   "cell_type": "code",
   "execution_count": 69,
   "metadata": {},
   "outputs": [
    {
     "data": {
      "text/plain": [
       "Request_Closing_In_Hr    0\n",
       "dtype: int64"
      ]
     },
     "execution_count": 69,
     "metadata": {},
     "output_type": "execute_result"
    }
   ],
   "source": [
    "# verify if new group has null values\n",
    "NYC311_grouped_withoutna.isnull().sum()"
   ]
  },
  {
   "cell_type": "code",
   "execution_count": 70,
   "metadata": {},
   "outputs": [
    {
     "name": "stdout",
     "output_type": "stream",
     "text": [
      "                                  Request_Closing_In_Hr\n",
      "City     Complaint Type                                \n",
      "ARVERNE  Animal Abuse                          2.153158\n",
      "         Blocked Driveway                      2.526000\n",
      "         Derelict Vehicle                      2.968889\n",
      "         Disorderly Youth                      3.595000\n",
      "         Drinking                              0.240000\n",
      "...                                                 ...\n",
      "Woodside Blocked Driveway                      6.405455\n",
      "         Derelict Vehicle                      4.965000\n",
      "         Illegal Parking                       5.219500\n",
      "         Noise - Commercial                    2.390000\n",
      "         Noise - Street/Sidewalk               3.410000\n",
      "\n",
      "[778 rows x 1 columns]\n"
     ]
    }
   ],
   "source": [
    "# verify number of rows after dropping null values\n",
    "print(NYC311_grouped_withoutna)"
   ]
  },
  {
   "cell_type": "code",
   "execution_count": 71,
   "metadata": {},
   "outputs": [
    {
     "data": {
      "text/html": [
       "<div>\n",
       "<style scoped>\n",
       "    .dataframe tbody tr th:only-of-type {\n",
       "        vertical-align: middle;\n",
       "    }\n",
       "\n",
       "    .dataframe tbody tr th {\n",
       "        vertical-align: top;\n",
       "    }\n",
       "\n",
       "    .dataframe thead th {\n",
       "        text-align: right;\n",
       "    }\n",
       "</style>\n",
       "<table border=\"1\" class=\"dataframe\">\n",
       "  <thead>\n",
       "    <tr style=\"text-align: right;\">\n",
       "      <th></th>\n",
       "      <th></th>\n",
       "      <th>Request_Closing_In_Hr</th>\n",
       "    </tr>\n",
       "    <tr>\n",
       "      <th>City</th>\n",
       "      <th>Complaint Type</th>\n",
       "      <th></th>\n",
       "    </tr>\n",
       "  </thead>\n",
       "  <tbody>\n",
       "    <tr>\n",
       "      <th rowspan=\"5\" valign=\"top\">ARVERNE</th>\n",
       "      <th>Drinking</th>\n",
       "      <td>0.240000</td>\n",
       "    </tr>\n",
       "    <tr>\n",
       "      <th>Vending</th>\n",
       "      <td>0.480000</td>\n",
       "    </tr>\n",
       "    <tr>\n",
       "      <th>Urinating in Public</th>\n",
       "      <td>0.690000</td>\n",
       "    </tr>\n",
       "    <tr>\n",
       "      <th>Panhandling</th>\n",
       "      <td>1.030000</td>\n",
       "    </tr>\n",
       "    <tr>\n",
       "      <th>Noise - Park</th>\n",
       "      <td>1.285000</td>\n",
       "    </tr>\n",
       "    <tr>\n",
       "      <th>...</th>\n",
       "      <th>...</th>\n",
       "      <td>...</td>\n",
       "    </tr>\n",
       "    <tr>\n",
       "      <th rowspan=\"5\" valign=\"top\">Woodside</th>\n",
       "      <th>Noise - Commercial</th>\n",
       "      <td>2.390000</td>\n",
       "    </tr>\n",
       "    <tr>\n",
       "      <th>Noise - Street/Sidewalk</th>\n",
       "      <td>3.410000</td>\n",
       "    </tr>\n",
       "    <tr>\n",
       "      <th>Derelict Vehicle</th>\n",
       "      <td>4.965000</td>\n",
       "    </tr>\n",
       "    <tr>\n",
       "      <th>Illegal Parking</th>\n",
       "      <td>5.219500</td>\n",
       "    </tr>\n",
       "    <tr>\n",
       "      <th>Blocked Driveway</th>\n",
       "      <td>6.405455</td>\n",
       "    </tr>\n",
       "  </tbody>\n",
       "</table>\n",
       "<p>778 rows × 1 columns</p>\n",
       "</div>"
      ],
      "text/plain": [
       "                                  Request_Closing_In_Hr\n",
       "City     Complaint Type                                \n",
       "ARVERNE  Drinking                              0.240000\n",
       "         Vending                               0.480000\n",
       "         Urinating in Public                   0.690000\n",
       "         Panhandling                           1.030000\n",
       "         Noise - Park                          1.285000\n",
       "...                                                 ...\n",
       "Woodside Noise - Commercial                    2.390000\n",
       "         Noise - Street/Sidewalk               3.410000\n",
       "         Derelict Vehicle                      4.965000\n",
       "         Illegal Parking                       5.219500\n",
       "         Blocked Driveway                      6.405455\n",
       "\n",
       "[778 rows x 1 columns]"
      ]
     },
     "execution_count": 71,
     "metadata": {},
     "output_type": "execute_result"
    }
   ],
   "source": [
    "# Sorting by column - Request_Closing_In_Hr for City on grouped\n",
    "NYC311_sorted = NYC311_grouped_withoutna.sort_values(['City', 'Request_Closing_In_Hr'])\n",
    "NYC311_sorted"
   ]
  },
  {
   "cell_type": "markdown",
   "metadata": {},
   "source": [
    "# Question 5: Perform a statistical test for the following:\n",
    "\n",
    "# Please note: For the below statements you need to state the Null and \n",
    "# Alternate and then provide a statistical test to accept or reject the Null   Hypothesis along with the corresponding ‘p-value’.\n",
    "\n",
    "# Whether the average response time across complaint types is similar or not (overall)\n",
    "# Are the type of complaint or service requested and location related?"
   ]
  },
  {
   "cell_type": "code",
   "execution_count": 72,
   "metadata": {},
   "outputs": [],
   "source": [
    "import scipy.stats as stats\n",
    "from math import sqrt"
   ]
  },
  {
   "cell_type": "code",
   "execution_count": null,
   "metadata": {},
   "outputs": [],
   "source": [
    "##### Try ANOVA for first one\n",
    "# H0 : The average response time for all complaint types is similar\n",
    "# H1 : The average response time for all complaint types is not similar"
   ]
  },
  {
   "cell_type": "code",
   "execution_count": 73,
   "metadata": {},
   "outputs": [
    {
     "data": {
      "text/plain": [
       "Blocked Driveway             77044\n",
       "Illegal Parking              75361\n",
       "Noise - Street/Sidewalk      48612\n",
       "Noise - Commercial           35577\n",
       "Derelict Vehicle             17718\n",
       "Noise - Vehicle              17083\n",
       "Animal Abuse                  7778\n",
       "Traffic                       4498\n",
       "Homeless Encampment           4416\n",
       "Noise - Park                  4042\n",
       "Vending                       3802\n",
       "Drinking                      1280\n",
       "Noise - House of Worship       931\n",
       "Posting Advertisement          650\n",
       "Urinating in Public            592\n",
       "Bike/Roller/Skate Chronic      427\n",
       "Panhandling                    307\n",
       "Disorderly Youth               286\n",
       "Illegal Fireworks              168\n",
       "Graffiti                       113\n",
       "Agency Issues                    6\n",
       "Squeegee                         4\n",
       "Ferry Complaint                  2\n",
       "Animal in a Park                 1\n",
       "Name: Complaint Type, dtype: int64"
      ]
     },
     "execution_count": 73,
     "metadata": {},
     "output_type": "execute_result"
    }
   ],
   "source": [
    "NYC311['Complaint Type'].value_counts()"
   ]
  },
  {
   "cell_type": "code",
   "execution_count": 74,
   "metadata": {},
   "outputs": [
    {
     "data": {
      "text/plain": [
       "Blocked Driveway           77044\n",
       "Illegal Parking            75361\n",
       "Noise - Street/Sidewalk    48612\n",
       "Noise - Commercial         35577\n",
       "Derelict Vehicle           17718\n",
       "Name: Complaint Type, dtype: int64"
      ]
     },
     "execution_count": 74,
     "metadata": {},
     "output_type": "execute_result"
    }
   ],
   "source": [
    "top5_complaints_type = NYC311['Complaint Type'].value_counts()[:5]\n",
    "top5_complaints_type"
   ]
  },
  {
   "cell_type": "code",
   "execution_count": 75,
   "metadata": {},
   "outputs": [
    {
     "data": {
      "text/plain": [
       "Index(['Blocked Driveway', 'Illegal Parking', 'Noise - Street/Sidewalk',\n",
       "       'Noise - Commercial', 'Derelict Vehicle'],\n",
       "      dtype='object')"
      ]
     },
     "execution_count": 75,
     "metadata": {},
     "output_type": "execute_result"
    }
   ],
   "source": [
    "top5_complaints_type_names = top5_complaints_type.index\n",
    "top5_complaints_type_names"
   ]
  },
  {
   "cell_type": "code",
   "execution_count": 77,
   "metadata": {},
   "outputs": [
    {
     "data": {
      "text/html": [
       "<div>\n",
       "<style scoped>\n",
       "    .dataframe tbody tr th:only-of-type {\n",
       "        vertical-align: middle;\n",
       "    }\n",
       "\n",
       "    .dataframe tbody tr th {\n",
       "        vertical-align: top;\n",
       "    }\n",
       "\n",
       "    .dataframe thead th {\n",
       "        text-align: right;\n",
       "    }\n",
       "</style>\n",
       "<table border=\"1\" class=\"dataframe\">\n",
       "  <thead>\n",
       "    <tr style=\"text-align: right;\">\n",
       "      <th></th>\n",
       "      <th>Complaint Type</th>\n",
       "      <th>Request_Closing_In_Hr</th>\n",
       "    </tr>\n",
       "  </thead>\n",
       "  <tbody>\n",
       "    <tr>\n",
       "      <th>0</th>\n",
       "      <td>Noise - Street/Sidewalk</td>\n",
       "      <td>0.92</td>\n",
       "    </tr>\n",
       "    <tr>\n",
       "      <th>1</th>\n",
       "      <td>Blocked Driveway</td>\n",
       "      <td>1.44</td>\n",
       "    </tr>\n",
       "    <tr>\n",
       "      <th>2</th>\n",
       "      <td>Blocked Driveway</td>\n",
       "      <td>4.86</td>\n",
       "    </tr>\n",
       "    <tr>\n",
       "      <th>3</th>\n",
       "      <td>Illegal Parking</td>\n",
       "      <td>7.75</td>\n",
       "    </tr>\n",
       "    <tr>\n",
       "      <th>4</th>\n",
       "      <td>Illegal Parking</td>\n",
       "      <td>3.45</td>\n",
       "    </tr>\n",
       "  </tbody>\n",
       "</table>\n",
       "</div>"
      ],
      "text/plain": [
       "            Complaint Type  Request_Closing_In_Hr\n",
       "0  Noise - Street/Sidewalk                   0.92\n",
       "1         Blocked Driveway                   1.44\n",
       "2         Blocked Driveway                   4.86\n",
       "3          Illegal Parking                   7.75\n",
       "4          Illegal Parking                   3.45"
      ]
     },
     "execution_count": 77,
     "metadata": {},
     "output_type": "execute_result"
    }
   ],
   "source": [
    "sample_data = NYC311.loc[NYC311['Complaint Type'].isin(top5_complaints_type_names), ['Complaint Type', 'Request_Closing_In_Hr']]\n",
    "sample_data.head()"
   ]
  },
  {
   "cell_type": "code",
   "execution_count": 78,
   "metadata": {},
   "outputs": [
    {
     "data": {
      "text/plain": [
       "(254312, 2)"
      ]
     },
     "execution_count": 78,
     "metadata": {},
     "output_type": "execute_result"
    }
   ],
   "source": [
    "sample_data.shape"
   ]
  },
  {
   "cell_type": "code",
   "execution_count": 79,
   "metadata": {},
   "outputs": [
    {
     "data": {
      "text/plain": [
       "Complaint Type              0\n",
       "Request_Closing_In_Hr    2059\n",
       "dtype: int64"
      ]
     },
     "execution_count": 79,
     "metadata": {},
     "output_type": "execute_result"
    }
   ],
   "source": [
    "sample_data.isnull().sum()"
   ]
  },
  {
   "cell_type": "code",
   "execution_count": 80,
   "metadata": {},
   "outputs": [
    {
     "data": {
      "text/plain": [
       "Complaint Type           0\n",
       "Request_Closing_In_Hr    0\n",
       "dtype: int64"
      ]
     },
     "execution_count": 80,
     "metadata": {},
     "output_type": "execute_result"
    }
   ],
   "source": [
    "#sample_data[~sample_data.isin(['NaN', 'NaT']).any(axis=1)]\n",
    "#sample_data[sample_data.isnull()]\n",
    "\n",
    "sample_data.dropna(how='any', inplace=True)\n",
    "sample_data.isnull().sum()\n",
    "# sample_data_without_null[sample_data_without_null.isnull()]"
   ]
  },
  {
   "cell_type": "code",
   "execution_count": 81,
   "metadata": {},
   "outputs": [
    {
     "data": {
      "text/plain": [
       "(252253, 2)"
      ]
     },
     "execution_count": 81,
     "metadata": {},
     "output_type": "execute_result"
    }
   ],
   "source": [
    "sample_data.shape"
   ]
  },
  {
   "cell_type": "code",
   "execution_count": 82,
   "metadata": {},
   "outputs": [
    {
     "data": {
      "text/plain": [
       "1     1.44\n",
       "2     4.86\n",
       "7     1.80\n",
       "9     1.38\n",
       "10    7.80\n",
       "Name: Request_Closing_In_Hr, dtype: float64"
      ]
     },
     "execution_count": 82,
     "metadata": {},
     "output_type": "execute_result"
    }
   ],
   "source": [
    "s1 = sample_data[sample_data['Complaint Type'] == top5_complaints_type_names[0]].Request_Closing_In_Hr\n",
    "s1.head()"
   ]
  },
  {
   "cell_type": "code",
   "execution_count": 83,
   "metadata": {},
   "outputs": [
    {
     "data": {
      "text/plain": [
       "3    7.75\n",
       "4    3.45\n",
       "5    1.89\n",
       "6    1.96\n",
       "8    8.55\n",
       "Name: Request_Closing_In_Hr, dtype: float64"
      ]
     },
     "execution_count": 83,
     "metadata": {},
     "output_type": "execute_result"
    }
   ],
   "source": [
    "s2 = sample_data[sample_data['Complaint Type'] == top5_complaints_type_names[1]].Request_Closing_In_Hr\n",
    "s2.head()"
   ]
  },
  {
   "cell_type": "code",
   "execution_count": 84,
   "metadata": {},
   "outputs": [
    {
     "data": {
      "text/plain": [
       "0     0.92\n",
       "12    2.48\n",
       "19    0.78\n",
       "38    0.49\n",
       "54    1.50\n",
       "Name: Request_Closing_In_Hr, dtype: float64"
      ]
     },
     "execution_count": 84,
     "metadata": {},
     "output_type": "execute_result"
    }
   ],
   "source": [
    "s3 = sample_data[sample_data['Complaint Type'] == top5_complaints_type_names[2]].Request_Closing_In_Hr\n",
    "s3.head()"
   ]
  },
  {
   "cell_type": "code",
   "execution_count": 85,
   "metadata": {},
   "outputs": [
    {
     "data": {
      "text/plain": [
       "17    0.85\n",
       "18    2.93\n",
       "22    1.26\n",
       "29    2.50\n",
       "30    1.99\n",
       "Name: Request_Closing_In_Hr, dtype: float64"
      ]
     },
     "execution_count": 85,
     "metadata": {},
     "output_type": "execute_result"
    }
   ],
   "source": [
    "s4 = sample_data[sample_data['Complaint Type'] == top5_complaints_type_names[3]].Request_Closing_In_Hr\n",
    "s4.head()"
   ]
  },
  {
   "cell_type": "code",
   "execution_count": 86,
   "metadata": {},
   "outputs": [
    {
     "data": {
      "text/plain": [
       "14     10.49\n",
       "151     3.95\n",
       "255     1.36\n",
       "256     4.13\n",
       "295     0.75\n",
       "Name: Request_Closing_In_Hr, dtype: float64"
      ]
     },
     "execution_count": 86,
     "metadata": {},
     "output_type": "execute_result"
    }
   ],
   "source": [
    "s5 = sample_data[sample_data['Complaint Type'] == top5_complaints_type_names[4]].Request_Closing_In_Hr\n",
    "s5.head()"
   ]
  },
  {
   "cell_type": "code",
   "execution_count": 87,
   "metadata": {
    "scrolled": true
   },
   "outputs": [
    {
     "name": "stdout",
     "output_type": "stream",
     "text": [
      "0\n",
      "0\n",
      "0\n",
      "0\n",
      "0\n"
     ]
    }
   ],
   "source": [
    "print(s1.isnull().sum())\n",
    "print(s2.isnull().sum())\n",
    "print(s3.isnull().sum())\n",
    "print(s4.isnull().sum())\n",
    "print(s5.isnull().sum())"
   ]
  },
  {
   "cell_type": "code",
   "execution_count": 88,
   "metadata": {},
   "outputs": [
    {
     "data": {
      "text/plain": [
       "F_onewayResult(statistic=1799.598683238952, pvalue=0.0)"
      ]
     },
     "execution_count": 88,
     "metadata": {},
     "output_type": "execute_result"
    }
   ],
   "source": [
    "stats.f_oneway(s1, s2, s3, s4, s5)\n"
   ]
  },
  {
   "cell_type": "markdown",
   "metadata": {},
   "source": [
    "# RESULT: We can see pvalue is less than 0.05 so we reject null hypothesis and average response time is not same."
   ]
  },
  {
   "cell_type": "code",
   "execution_count": null,
   "metadata": {},
   "outputs": [],
   "source": [
    "### Try ChiSquare Test for second one - \n",
    "# Are the type of complaint or service requested and location related?\n",
    "\n",
    "# H0 : 2 categories - Complain Type and Location is independent means not related\n",
    "# Ha : 2 categories - Complain Type and Location is dependent means related"
   ]
  },
  {
   "cell_type": "code",
   "execution_count": 89,
   "metadata": {},
   "outputs": [
    {
     "data": {
      "text/plain": [
       "BROOKLYN         98307\n",
       "NEW YORK         65994\n",
       "BRONX            40702\n",
       "STATEN ISLAND    12343\n",
       "JAMAICA           7296\n",
       "Name: City, dtype: int64"
      ]
     },
     "execution_count": 89,
     "metadata": {},
     "output_type": "execute_result"
    }
   ],
   "source": [
    "top5_location = NYC311['City'].value_counts()[:5]\n",
    "top5_location"
   ]
  },
  {
   "cell_type": "code",
   "execution_count": 90,
   "metadata": {},
   "outputs": [
    {
     "data": {
      "text/plain": [
       "Index(['BROOKLYN', 'NEW YORK', 'BRONX', 'STATEN ISLAND', 'JAMAICA'], dtype='object')"
      ]
     },
     "execution_count": 90,
     "metadata": {},
     "output_type": "execute_result"
    }
   ],
   "source": [
    "top5_location_names = top5_location.index\n",
    "top5_location_names"
   ]
  },
  {
   "cell_type": "code",
   "execution_count": 92,
   "metadata": {},
   "outputs": [
    {
     "data": {
      "text/html": [
       "<div>\n",
       "<style scoped>\n",
       "    .dataframe tbody tr th:only-of-type {\n",
       "        vertical-align: middle;\n",
       "    }\n",
       "\n",
       "    .dataframe tbody tr th {\n",
       "        vertical-align: top;\n",
       "    }\n",
       "\n",
       "    .dataframe thead th {\n",
       "        text-align: right;\n",
       "    }\n",
       "</style>\n",
       "<table border=\"1\" class=\"dataframe\">\n",
       "  <thead>\n",
       "    <tr style=\"text-align: right;\">\n",
       "      <th></th>\n",
       "      <th>Complaint Type</th>\n",
       "      <th>City</th>\n",
       "    </tr>\n",
       "  </thead>\n",
       "  <tbody>\n",
       "    <tr>\n",
       "      <th>0</th>\n",
       "      <td>Noise - Street/Sidewalk</td>\n",
       "      <td>NEW YORK</td>\n",
       "    </tr>\n",
       "    <tr>\n",
       "      <th>2</th>\n",
       "      <td>Blocked Driveway</td>\n",
       "      <td>BRONX</td>\n",
       "    </tr>\n",
       "    <tr>\n",
       "      <th>3</th>\n",
       "      <td>Illegal Parking</td>\n",
       "      <td>BRONX</td>\n",
       "    </tr>\n",
       "    <tr>\n",
       "      <th>5</th>\n",
       "      <td>Illegal Parking</td>\n",
       "      <td>BROOKLYN</td>\n",
       "    </tr>\n",
       "    <tr>\n",
       "      <th>6</th>\n",
       "      <td>Illegal Parking</td>\n",
       "      <td>NEW YORK</td>\n",
       "    </tr>\n",
       "  </tbody>\n",
       "</table>\n",
       "</div>"
      ],
      "text/plain": [
       "            Complaint Type      City\n",
       "0  Noise - Street/Sidewalk  NEW YORK\n",
       "2         Blocked Driveway     BRONX\n",
       "3          Illegal Parking     BRONX\n",
       "5          Illegal Parking  BROOKLYN\n",
       "6          Illegal Parking  NEW YORK"
      ]
     },
     "execution_count": 92,
     "metadata": {},
     "output_type": "execute_result"
    }
   ],
   "source": [
    "sample_data_location_c_type = NYC311.loc[(NYC311['Complaint Type'].isin(top5_complaints_type_names)) & (NYC311['City'].isin(top5_location_names)), ['Complaint Type', 'City']]\n",
    "sample_data_location_c_type.head()"
   ]
  },
  {
   "cell_type": "code",
   "execution_count": 93,
   "metadata": {},
   "outputs": [
    {
     "data": {
      "text/html": [
       "<div>\n",
       "<style scoped>\n",
       "    .dataframe tbody tr th:only-of-type {\n",
       "        vertical-align: middle;\n",
       "    }\n",
       "\n",
       "    .dataframe tbody tr th {\n",
       "        vertical-align: top;\n",
       "    }\n",
       "\n",
       "    .dataframe thead th {\n",
       "        text-align: right;\n",
       "    }\n",
       "</style>\n",
       "<table border=\"1\" class=\"dataframe\">\n",
       "  <thead>\n",
       "    <tr style=\"text-align: right;\">\n",
       "      <th>City</th>\n",
       "      <th>BRONX</th>\n",
       "      <th>BROOKLYN</th>\n",
       "      <th>JAMAICA</th>\n",
       "      <th>NEW YORK</th>\n",
       "      <th>STATEN ISLAND</th>\n",
       "      <th>All</th>\n",
       "    </tr>\n",
       "    <tr>\n",
       "      <th>Complaint Type</th>\n",
       "      <th></th>\n",
       "      <th></th>\n",
       "      <th></th>\n",
       "      <th></th>\n",
       "      <th></th>\n",
       "      <th></th>\n",
       "    </tr>\n",
       "  </thead>\n",
       "  <tbody>\n",
       "    <tr>\n",
       "      <th>Blocked Driveway</th>\n",
       "      <td>12755</td>\n",
       "      <td>28148</td>\n",
       "      <td>2818</td>\n",
       "      <td>2072</td>\n",
       "      <td>2142</td>\n",
       "      <td>47935</td>\n",
       "    </tr>\n",
       "    <tr>\n",
       "      <th>Derelict Vehicle</th>\n",
       "      <td>1953</td>\n",
       "      <td>5181</td>\n",
       "      <td>954</td>\n",
       "      <td>537</td>\n",
       "      <td>1766</td>\n",
       "      <td>10391</td>\n",
       "    </tr>\n",
       "    <tr>\n",
       "      <th>Illegal Parking</th>\n",
       "      <td>7859</td>\n",
       "      <td>27462</td>\n",
       "      <td>1421</td>\n",
       "      <td>12128</td>\n",
       "      <td>4886</td>\n",
       "      <td>53756</td>\n",
       "    </tr>\n",
       "    <tr>\n",
       "      <th>Noise - Commercial</th>\n",
       "      <td>2434</td>\n",
       "      <td>11463</td>\n",
       "      <td>429</td>\n",
       "      <td>14550</td>\n",
       "      <td>678</td>\n",
       "      <td>29554</td>\n",
       "    </tr>\n",
       "    <tr>\n",
       "      <th>Noise - Street/Sidewalk</th>\n",
       "      <td>8892</td>\n",
       "      <td>13356</td>\n",
       "      <td>339</td>\n",
       "      <td>20433</td>\n",
       "      <td>819</td>\n",
       "      <td>43839</td>\n",
       "    </tr>\n",
       "    <tr>\n",
       "      <th>All</th>\n",
       "      <td>33893</td>\n",
       "      <td>85610</td>\n",
       "      <td>5961</td>\n",
       "      <td>49720</td>\n",
       "      <td>10291</td>\n",
       "      <td>185475</td>\n",
       "    </tr>\n",
       "  </tbody>\n",
       "</table>\n",
       "</div>"
      ],
      "text/plain": [
       "City                     BRONX  BROOKLYN  JAMAICA  NEW YORK  STATEN ISLAND  \\\n",
       "Complaint Type                                                               \n",
       "Blocked Driveway         12755     28148     2818      2072           2142   \n",
       "Derelict Vehicle          1953      5181      954       537           1766   \n",
       "Illegal Parking           7859     27462     1421     12128           4886   \n",
       "Noise - Commercial        2434     11463      429     14550            678   \n",
       "Noise - Street/Sidewalk   8892     13356      339     20433            819   \n",
       "All                      33893     85610     5961     49720          10291   \n",
       "\n",
       "City                        All  \n",
       "Complaint Type                   \n",
       "Blocked Driveway          47935  \n",
       "Derelict Vehicle          10391  \n",
       "Illegal Parking           53756  \n",
       "Noise - Commercial        29554  \n",
       "Noise - Street/Sidewalk   43839  \n",
       "All                      185475  "
      ]
     },
     "execution_count": 93,
     "metadata": {},
     "output_type": "execute_result"
    }
   ],
   "source": [
    "pd.crosstab(sample_data_location_c_type['Complaint Type'], sample_data_location_c_type['City'], margins=True)"
   ]
  },
  {
   "cell_type": "code",
   "execution_count": 94,
   "metadata": {},
   "outputs": [],
   "source": [
    "ch2, p_value, df, exp_frq = stats.chi2_contingency(pd.crosstab(sample_data_location_c_type['Complaint Type'], sample_data_location_c_type['City']))"
   ]
  },
  {
   "cell_type": "code",
   "execution_count": 95,
   "metadata": {},
   "outputs": [
    {
     "name": "stdout",
     "output_type": "stream",
     "text": [
      "40522.79928349593\n",
      "0.0\n"
     ]
    }
   ],
   "source": [
    "print(ch2)\n",
    "print(p_value)"
   ]
  },
  {
   "cell_type": "markdown",
   "metadata": {},
   "source": [
    "RESULT: # We can see pvalue is less than 0.05 so we reject null hypothesis means complain type and location is not independent."
   ]
  },
  {
   "cell_type": "code",
   "execution_count": null,
   "metadata": {},
   "outputs": [],
   "source": []
  }
 ],
 "metadata": {
  "kernelspec": {
   "display_name": "Python 3",
   "language": "python",
   "name": "python3"
  },
  "language_info": {
   "codemirror_mode": {
    "name": "ipython",
    "version": 3
   },
   "file_extension": ".py",
   "mimetype": "text/x-python",
   "name": "python",
   "nbconvert_exporter": "python",
   "pygments_lexer": "ipython3",
   "version": "3.8.3"
  }
 },
 "nbformat": 4,
 "nbformat_minor": 4
}
